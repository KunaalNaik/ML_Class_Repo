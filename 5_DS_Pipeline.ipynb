{
 "cells": [
  {
   "cell_type": "markdown",
   "id": "8518aaf5",
   "metadata": {},
   "source": [
    "## Import Libraries"
   ]
  },
  {
   "cell_type": "code",
   "execution_count": 1,
   "id": "b8f11f1e",
   "metadata": {},
   "outputs": [],
   "source": [
    "import pandas as pd\n",
    "import numpy as np\n",
    "\n",
    "# Make and Compose Pipeline\n",
    "from sklearn.pipeline import make_pipeline\n",
    "from sklearn.compose import make_column_transformer\n",
    "\n",
    "# Import SimpleImputer\n",
    "from sklearn.impute import SimpleImputer\n",
    "\n",
    "# Import Scaling and transformation Libraries\n",
    "from sklearn.preprocessing import StandardScaler, OrdinalEncoder\n",
    "\n",
    "# Import Decision tree\n",
    "from sklearn.tree import DecisionTreeClassifier"
   ]
  },
  {
   "cell_type": "markdown",
   "id": "99347ebd",
   "metadata": {},
   "source": [
    "## Import Data"
   ]
  },
  {
   "cell_type": "code",
   "execution_count": 2,
   "id": "66f9dc64",
   "metadata": {},
   "outputs": [],
   "source": [
    "train = pd.read_csv('input/train.csv')\n",
    "test = pd.read_csv('input/test.csv')"
   ]
  },
  {
   "cell_type": "code",
   "execution_count": 3,
   "id": "04b0ee4e",
   "metadata": {},
   "outputs": [],
   "source": [
    "#Identify Numerical Features\n",
    "numerical_features = ['Age','Region_Code','Annual_Premium','Policy_Sales_Channel','Vintage']\n",
    "\n",
    "#Identify Categorical Features\n",
    "categorical_features = ['Gender','Vehicle_Age','Vehicle_Damage']"
   ]
  },
  {
   "cell_type": "markdown",
   "id": "c28304a8",
   "metadata": {},
   "source": [
    "## Train Validation Split"
   ]
  },
  {
   "cell_type": "code",
   "execution_count": 4,
   "id": "f2b61c51",
   "metadata": {},
   "outputs": [],
   "source": [
    "y = train['Response']\n",
    "X = train.drop(['id','Response'], axis = 1)"
   ]
  },
  {
   "cell_type": "code",
   "execution_count": 5,
   "id": "2825b425",
   "metadata": {},
   "outputs": [],
   "source": [
    "from sklearn.model_selection import train_test_split\n",
    "X_train, X_val, y_train, y_val = train_test_split(X, y, test_size=0.30, random_state=42)"
   ]
  },
  {
   "cell_type": "markdown",
   "id": "ceb84693",
   "metadata": {},
   "source": [
    "## Build Pipeline"
   ]
  },
  {
   "cell_type": "code",
   "execution_count": 7,
   "id": "ee0bb00d",
   "metadata": {},
   "outputs": [],
   "source": [
    "preprocessor = make_column_transformer(\n",
    "\n",
    "    (make_pipeline(\n",
    "        SimpleImputer(strategy = 'mean'),\n",
    "        StandardScaler()), numerical_features),\n",
    "    \n",
    "    (make_pipeline(        \n",
    "        SimpleImputer(strategy = 'most_frequent'),\n",
    "        OrdinalEncoder(categories = 'auto')), categorical_features),\n",
    "\n",
    ")"
   ]
  },
  {
   "cell_type": "code",
   "execution_count": 18,
   "id": "1ded6af7",
   "metadata": {},
   "outputs": [],
   "source": [
    "#model = make_pipeline(preprocessor, DecisionTreeClassifier())\n",
    "dt = make_pipeline(preprocessor, DecisionTreeClassifier())"
   ]
  },
  {
   "cell_type": "markdown",
   "id": "bf064307",
   "metadata": {},
   "source": [
    "## Build Model"
   ]
  },
  {
   "cell_type": "code",
   "execution_count": 15,
   "id": "8dff581d",
   "metadata": {},
   "outputs": [],
   "source": [
    "from sklearn.model_selection import GridSearchCV"
   ]
  },
  {
   "cell_type": "code",
   "execution_count": 27,
   "id": "983166bf",
   "metadata": {},
   "outputs": [],
   "source": [
    "parameters = {\n",
    "    'decisiontreeclassifier__criterion':('gini', 'entropy')\n",
    "    , 'decisiontreeclassifier__max_depth':[5,10,15,20,30]\n",
    "    , 'decisiontreeclassifier__min_samples_split': [2,4,6,8]\n",
    "}"
   ]
  },
  {
   "cell_type": "code",
   "execution_count": 28,
   "id": "ae85c806",
   "metadata": {},
   "outputs": [],
   "source": [
    "model = GridSearchCV(dt, parameters, verbose = 2, n_jobs = -1)"
   ]
  },
  {
   "cell_type": "code",
   "execution_count": 29,
   "id": "65c1fa37",
   "metadata": {},
   "outputs": [
    {
     "name": "stdout",
     "output_type": "stream",
     "text": [
      "Fitting 5 folds for each of 40 candidates, totalling 200 fits\n"
     ]
    },
    {
     "data": {
      "text/plain": [
       "GridSearchCV(estimator=Pipeline(steps=[('columntransformer',\n",
       "                                        ColumnTransformer(transformers=[('pipeline-1',\n",
       "                                                                         Pipeline(steps=[('simpleimputer',\n",
       "                                                                                          SimpleImputer()),\n",
       "                                                                                         ('standardscaler',\n",
       "                                                                                          StandardScaler())]),\n",
       "                                                                         ['Age',\n",
       "                                                                          'Region_Code',\n",
       "                                                                          'Annual_Premium',\n",
       "                                                                          'Policy_Sales_Channel',\n",
       "                                                                          'Vintage']),\n",
       "                                                                        ('pipeline-2',\n",
       "                                                                         Pipeline(steps=[('simpleimputer',\n",
       "                                                                                          SimpleImputer(strategy='most_frequent')),\n",
       "                                                                                         ('ordinalencoder',\n",
       "                                                                                          OrdinalEncoder())]),\n",
       "                                                                         ['Gender',\n",
       "                                                                          'Vehicle_Age',\n",
       "                                                                          'Vehicle_Damage'])])),\n",
       "                                       ('decisiontreeclassifier',\n",
       "                                        DecisionTreeClassifier())]),\n",
       "             n_jobs=-1,\n",
       "             param_grid={'decisiontreeclassifier__criterion': ('gini',\n",
       "                                                               'entropy'),\n",
       "                         'decisiontreeclassifier__max_depth': [5, 10, 15, 20,\n",
       "                                                               30],\n",
       "                         'decisiontreeclassifier__min_samples_split': [2, 4, 6,\n",
       "                                                                       8]},\n",
       "             verbose=2)"
      ]
     },
     "execution_count": 29,
     "metadata": {},
     "output_type": "execute_result"
    }
   ],
   "source": [
    "model.fit(X_train, y_train)"
   ]
  },
  {
   "cell_type": "markdown",
   "id": "d8780851",
   "metadata": {},
   "source": [
    "## Check Accurary"
   ]
  },
  {
   "cell_type": "code",
   "execution_count": 30,
   "id": "d12a23f7",
   "metadata": {},
   "outputs": [
    {
     "name": "stdout",
     "output_type": "stream",
     "text": [
      "Train Accuracy : 87.8%\n",
      "Test Accuracy : 87.6%\n"
     ]
    }
   ],
   "source": [
    "print(f\"Train Accuracy : {model.score(X_train, y_train):0.1%}\")\n",
    "print(f\"Test Accuracy : {model.score(X_val, y_val):0.1%}\")"
   ]
  },
  {
   "cell_type": "code",
   "execution_count": null,
   "id": "e9946a11",
   "metadata": {},
   "outputs": [],
   "source": []
  },
  {
   "cell_type": "code",
   "execution_count": null,
   "id": "5a652663",
   "metadata": {},
   "outputs": [],
   "source": []
  },
  {
   "cell_type": "code",
   "execution_count": null,
   "id": "b2baccc7",
   "metadata": {},
   "outputs": [],
   "source": []
  },
  {
   "cell_type": "code",
   "execution_count": null,
   "id": "4eae4ded",
   "metadata": {},
   "outputs": [],
   "source": []
  }
 ],
 "metadata": {
  "kernelspec": {
   "display_name": "Python 3",
   "language": "python",
   "name": "python3"
  },
  "language_info": {
   "codemirror_mode": {
    "name": "ipython",
    "version": 3
   },
   "file_extension": ".py",
   "mimetype": "text/x-python",
   "name": "python",
   "nbconvert_exporter": "python",
   "pygments_lexer": "ipython3",
   "version": "3.8.8"
  }
 },
 "nbformat": 4,
 "nbformat_minor": 5
}
